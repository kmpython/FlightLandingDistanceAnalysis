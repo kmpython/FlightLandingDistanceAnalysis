{
 "cells": [
  {
   "cell_type": "markdown",
   "metadata": {},
   "source": [
    "<h2>Analysis of flight data to predict landing distance<h2>"
   ]
  },
  {
   "cell_type": "code",
   "execution_count": 1,
   "metadata": {},
   "outputs": [
    {
     "name": "stderr",
     "output_type": "stream",
     "text": [
      "d:\\python35\\lib\\site-packages\\sklearn\\cross_validation.py:44: DeprecationWarning: This module was deprecated in version 0.18 in favor of the model_selection module into which all the refactored classes and functions are moved. Also note that the interface of the new CV iterators are different from that of this module. This module will be removed in 0.20.\n",
      "  \"This module will be removed in 0.20.\", DeprecationWarning)\n"
     ]
    }
   ],
   "source": [
    "import pandas as pd\n",
    "import numpy as np\n",
    "import matplotlib.pyplot as plt\n",
    "from sklearn.cross_validation import train_test_split\n",
    "from sklearn.preprocessing import StandardScaler\n",
    "from sklearn.linear_model import LinearRegression\n",
    "from matplotlib import style\n",
    "style.use('ggplot')"
   ]
  },
  {
   "cell_type": "code",
   "execution_count": 2,
   "metadata": {
    "collapsed": true
   },
   "outputs": [],
   "source": [
    "#Reading and Exploring the data\n",
    "df = pd.read_csv('C:\\\\Users\\\\Karthik\\\\Desktop\\\\FAA1.csv')"
   ]
  },
  {
   "cell_type": "markdown",
   "metadata": {},
   "source": [
    "<h3>Preliminary Analysis of the quality of Data<h3>"
   ]
  },
  {
   "cell_type": "code",
   "execution_count": 3,
   "metadata": {},
   "outputs": [
    {
     "data": {
      "text/html": [
       "<div>\n",
       "<style>\n",
       "    .dataframe thead tr:only-child th {\n",
       "        text-align: right;\n",
       "    }\n",
       "\n",
       "    .dataframe thead th {\n",
       "        text-align: left;\n",
       "    }\n",
       "\n",
       "    .dataframe tbody tr th {\n",
       "        vertical-align: top;\n",
       "    }\n",
       "</style>\n",
       "<table border=\"1\" class=\"dataframe\">\n",
       "  <thead>\n",
       "    <tr style=\"text-align: right;\">\n",
       "      <th></th>\n",
       "      <th>aircraft</th>\n",
       "      <th>duration</th>\n",
       "      <th>no_pasg</th>\n",
       "      <th>speed_ground</th>\n",
       "      <th>speed_air</th>\n",
       "      <th>height</th>\n",
       "      <th>pitch</th>\n",
       "      <th>distance</th>\n",
       "    </tr>\n",
       "  </thead>\n",
       "  <tbody>\n",
       "    <tr>\n",
       "      <th>0</th>\n",
       "      <td>boeing</td>\n",
       "      <td>98.479091</td>\n",
       "      <td>53</td>\n",
       "      <td>107.915680</td>\n",
       "      <td>109.328376</td>\n",
       "      <td>27.418924</td>\n",
       "      <td>4.043515</td>\n",
       "      <td>3369.836364</td>\n",
       "    </tr>\n",
       "    <tr>\n",
       "      <th>1</th>\n",
       "      <td>boeing</td>\n",
       "      <td>125.733297</td>\n",
       "      <td>69</td>\n",
       "      <td>101.655589</td>\n",
       "      <td>102.851405</td>\n",
       "      <td>27.804716</td>\n",
       "      <td>4.117432</td>\n",
       "      <td>2987.803924</td>\n",
       "    </tr>\n",
       "    <tr>\n",
       "      <th>2</th>\n",
       "      <td>boeing</td>\n",
       "      <td>112.017001</td>\n",
       "      <td>61</td>\n",
       "      <td>71.051961</td>\n",
       "      <td>NaN</td>\n",
       "      <td>18.589386</td>\n",
       "      <td>4.434043</td>\n",
       "      <td>1144.922426</td>\n",
       "    </tr>\n",
       "    <tr>\n",
       "      <th>3</th>\n",
       "      <td>boeing</td>\n",
       "      <td>196.825691</td>\n",
       "      <td>56</td>\n",
       "      <td>85.813328</td>\n",
       "      <td>NaN</td>\n",
       "      <td>30.744597</td>\n",
       "      <td>3.884236</td>\n",
       "      <td>1664.218158</td>\n",
       "    </tr>\n",
       "    <tr>\n",
       "      <th>4</th>\n",
       "      <td>boeing</td>\n",
       "      <td>90.095381</td>\n",
       "      <td>70</td>\n",
       "      <td>59.888528</td>\n",
       "      <td>NaN</td>\n",
       "      <td>32.397688</td>\n",
       "      <td>4.026096</td>\n",
       "      <td>1050.264498</td>\n",
       "    </tr>\n",
       "  </tbody>\n",
       "</table>\n",
       "</div>"
      ],
      "text/plain": [
       "  aircraft    duration  no_pasg  speed_ground   speed_air     height  \\\n",
       "0   boeing   98.479091       53    107.915680  109.328376  27.418924   \n",
       "1   boeing  125.733297       69    101.655589  102.851405  27.804716   \n",
       "2   boeing  112.017001       61     71.051961         NaN  18.589386   \n",
       "3   boeing  196.825691       56     85.813328         NaN  30.744597   \n",
       "4   boeing   90.095381       70     59.888528         NaN  32.397688   \n",
       "\n",
       "      pitch     distance  \n",
       "0  4.043515  3369.836364  \n",
       "1  4.117432  2987.803924  \n",
       "2  4.434043  1144.922426  \n",
       "3  3.884236  1664.218158  \n",
       "4  4.026096  1050.264498  "
      ]
     },
     "execution_count": 3,
     "metadata": {},
     "output_type": "execute_result"
    }
   ],
   "source": [
    "#A snapshot of the data\n",
    "df.head()"
   ]
  },
  {
   "cell_type": "code",
   "execution_count": 4,
   "metadata": {},
   "outputs": [
    {
     "data": {
      "text/html": [
       "<div>\n",
       "<style>\n",
       "    .dataframe thead tr:only-child th {\n",
       "        text-align: right;\n",
       "    }\n",
       "\n",
       "    .dataframe thead th {\n",
       "        text-align: left;\n",
       "    }\n",
       "\n",
       "    .dataframe tbody tr th {\n",
       "        vertical-align: top;\n",
       "    }\n",
       "</style>\n",
       "<table border=\"1\" class=\"dataframe\">\n",
       "  <thead>\n",
       "    <tr style=\"text-align: right;\">\n",
       "      <th></th>\n",
       "      <th>aircraft</th>\n",
       "      <th>duration</th>\n",
       "      <th>no_pasg</th>\n",
       "      <th>speed_ground</th>\n",
       "      <th>speed_air</th>\n",
       "      <th>height</th>\n",
       "      <th>pitch</th>\n",
       "      <th>distance</th>\n",
       "    </tr>\n",
       "  </thead>\n",
       "  <tbody>\n",
       "    <tr>\n",
       "      <th>795</th>\n",
       "      <td>airbus</td>\n",
       "      <td>98.461455</td>\n",
       "      <td>50</td>\n",
       "      <td>73.939616</td>\n",
       "      <td>NaN</td>\n",
       "      <td>42.353384</td>\n",
       "      <td>3.957104</td>\n",
       "      <td>1027.213466</td>\n",
       "    </tr>\n",
       "    <tr>\n",
       "      <th>796</th>\n",
       "      <td>airbus</td>\n",
       "      <td>114.234857</td>\n",
       "      <td>57</td>\n",
       "      <td>79.982703</td>\n",
       "      <td>NaN</td>\n",
       "      <td>42.244751</td>\n",
       "      <td>3.785954</td>\n",
       "      <td>1162.404395</td>\n",
       "    </tr>\n",
       "    <tr>\n",
       "      <th>797</th>\n",
       "      <td>airbus</td>\n",
       "      <td>118.576072</td>\n",
       "      <td>63</td>\n",
       "      <td>75.368172</td>\n",
       "      <td>NaN</td>\n",
       "      <td>31.340776</td>\n",
       "      <td>3.558020</td>\n",
       "      <td>960.255596</td>\n",
       "    </tr>\n",
       "    <tr>\n",
       "      <th>798</th>\n",
       "      <td>airbus</td>\n",
       "      <td>200.621366</td>\n",
       "      <td>63</td>\n",
       "      <td>77.148459</td>\n",
       "      <td>NaN</td>\n",
       "      <td>23.602423</td>\n",
       "      <td>3.020178</td>\n",
       "      <td>899.430559</td>\n",
       "    </tr>\n",
       "    <tr>\n",
       "      <th>799</th>\n",
       "      <td>airbus</td>\n",
       "      <td>124.140103</td>\n",
       "      <td>59</td>\n",
       "      <td>66.464640</td>\n",
       "      <td>NaN</td>\n",
       "      <td>48.067790</td>\n",
       "      <td>4.165660</td>\n",
       "      <td>853.864538</td>\n",
       "    </tr>\n",
       "  </tbody>\n",
       "</table>\n",
       "</div>"
      ],
      "text/plain": [
       "    aircraft    duration  no_pasg  speed_ground  speed_air     height  \\\n",
       "795   airbus   98.461455       50     73.939616        NaN  42.353384   \n",
       "796   airbus  114.234857       57     79.982703        NaN  42.244751   \n",
       "797   airbus  118.576072       63     75.368172        NaN  31.340776   \n",
       "798   airbus  200.621366       63     77.148459        NaN  23.602423   \n",
       "799   airbus  124.140103       59     66.464640        NaN  48.067790   \n",
       "\n",
       "        pitch     distance  \n",
       "795  3.957104  1027.213466  \n",
       "796  3.785954  1162.404395  \n",
       "797  3.558020   960.255596  \n",
       "798  3.020178   899.430559  \n",
       "799  4.165660   853.864538  "
      ]
     },
     "execution_count": 4,
     "metadata": {},
     "output_type": "execute_result"
    }
   ],
   "source": [
    "df.tail()"
   ]
  },
  {
   "cell_type": "markdown",
   "metadata": {},
   "source": [
    "We have only one categorical data : aircraft\n",
    "\n",
    "We have seven numerical data : duration no_pasg, speed_ground, speed_air, height, pitch, distance\n",
    "\n",
    "Just by looking at the head and tail I suspect that speed_air might have lot of missing data. Lets investigate into this"
   ]
  },
  {
   "cell_type": "code",
   "execution_count": 5,
   "metadata": {},
   "outputs": [
    {
     "name": "stdout",
     "output_type": "stream",
     "text": [
      "<class 'pandas.core.frame.DataFrame'>\n",
      "RangeIndex: 800 entries, 0 to 799\n",
      "Data columns (total 8 columns):\n",
      "aircraft        800 non-null object\n",
      "duration        800 non-null float64\n",
      "no_pasg         800 non-null int64\n",
      "speed_ground    800 non-null float64\n",
      "speed_air       200 non-null float64\n",
      "height          800 non-null float64\n",
      "pitch           800 non-null float64\n",
      "distance        800 non-null float64\n",
      "dtypes: float64(6), int64(1), object(1)\n",
      "memory usage: 46.9+ KB\n"
     ]
    }
   ],
   "source": [
    "df.info()"
   ]
  },
  {
   "cell_type": "markdown",
   "metadata": {},
   "source": [
    "We can observe that only 25% of the observations have speed_air populated. It will be safe to drop the whole column to maintainthe integrity of the dataset"
   ]
  },
  {
   "cell_type": "code",
   "execution_count": 6,
   "metadata": {
    "collapsed": true
   },
   "outputs": [],
   "source": [
    "df = df.drop('speed_air', 1)"
   ]
  },
  {
   "cell_type": "code",
   "execution_count": 7,
   "metadata": {},
   "outputs": [
    {
     "data": {
      "text/html": [
       "<div>\n",
       "<style>\n",
       "    .dataframe thead tr:only-child th {\n",
       "        text-align: right;\n",
       "    }\n",
       "\n",
       "    .dataframe thead th {\n",
       "        text-align: left;\n",
       "    }\n",
       "\n",
       "    .dataframe tbody tr th {\n",
       "        vertical-align: top;\n",
       "    }\n",
       "</style>\n",
       "<table border=\"1\" class=\"dataframe\">\n",
       "  <thead>\n",
       "    <tr style=\"text-align: right;\">\n",
       "      <th></th>\n",
       "      <th>duration</th>\n",
       "      <th>no_pasg</th>\n",
       "      <th>speed_ground</th>\n",
       "      <th>height</th>\n",
       "      <th>pitch</th>\n",
       "      <th>distance</th>\n",
       "    </tr>\n",
       "  </thead>\n",
       "  <tbody>\n",
       "    <tr>\n",
       "      <th>count</th>\n",
       "      <td>800.000000</td>\n",
       "      <td>800.000000</td>\n",
       "      <td>800.000000</td>\n",
       "      <td>800.000000</td>\n",
       "      <td>800.000000</td>\n",
       "      <td>800.000000</td>\n",
       "    </tr>\n",
       "    <tr>\n",
       "      <th>mean</th>\n",
       "      <td>154.006538</td>\n",
       "      <td>60.132500</td>\n",
       "      <td>79.541420</td>\n",
       "      <td>30.121772</td>\n",
       "      <td>4.018375</td>\n",
       "      <td>1544.520801</td>\n",
       "    </tr>\n",
       "    <tr>\n",
       "      <th>std</th>\n",
       "      <td>49.259234</td>\n",
       "      <td>7.527169</td>\n",
       "      <td>19.234887</td>\n",
       "      <td>10.276169</td>\n",
       "      <td>0.524816</td>\n",
       "      <td>938.233100</td>\n",
       "    </tr>\n",
       "    <tr>\n",
       "      <th>min</th>\n",
       "      <td>14.764207</td>\n",
       "      <td>29.000000</td>\n",
       "      <td>27.735715</td>\n",
       "      <td>-3.546252</td>\n",
       "      <td>2.284480</td>\n",
       "      <td>34.080783</td>\n",
       "    </tr>\n",
       "    <tr>\n",
       "      <th>25%</th>\n",
       "      <td>119.493891</td>\n",
       "      <td>55.000000</td>\n",
       "      <td>65.867417</td>\n",
       "      <td>23.337992</td>\n",
       "      <td>3.658035</td>\n",
       "      <td>900.952180</td>\n",
       "    </tr>\n",
       "    <tr>\n",
       "      <th>50%</th>\n",
       "      <td>153.948098</td>\n",
       "      <td>60.000000</td>\n",
       "      <td>79.642804</td>\n",
       "      <td>30.146745</td>\n",
       "      <td>4.020067</td>\n",
       "      <td>1267.438320</td>\n",
       "    </tr>\n",
       "    <tr>\n",
       "      <th>75%</th>\n",
       "      <td>188.914911</td>\n",
       "      <td>65.000000</td>\n",
       "      <td>92.325004</td>\n",
       "      <td>36.981469</td>\n",
       "      <td>4.388005</td>\n",
       "      <td>1960.441987</td>\n",
       "    </tr>\n",
       "    <tr>\n",
       "      <th>max</th>\n",
       "      <td>305.621711</td>\n",
       "      <td>87.000000</td>\n",
       "      <td>141.218635</td>\n",
       "      <td>59.945964</td>\n",
       "      <td>5.926784</td>\n",
       "      <td>6533.047651</td>\n",
       "    </tr>\n",
       "  </tbody>\n",
       "</table>\n",
       "</div>"
      ],
      "text/plain": [
       "         duration     no_pasg  speed_ground      height       pitch  \\\n",
       "count  800.000000  800.000000    800.000000  800.000000  800.000000   \n",
       "mean   154.006538   60.132500     79.541420   30.121772    4.018375   \n",
       "std     49.259234    7.527169     19.234887   10.276169    0.524816   \n",
       "min     14.764207   29.000000     27.735715   -3.546252    2.284480   \n",
       "25%    119.493891   55.000000     65.867417   23.337992    3.658035   \n",
       "50%    153.948098   60.000000     79.642804   30.146745    4.020067   \n",
       "75%    188.914911   65.000000     92.325004   36.981469    4.388005   \n",
       "max    305.621711   87.000000    141.218635   59.945964    5.926784   \n",
       "\n",
       "          distance  \n",
       "count   800.000000  \n",
       "mean   1544.520801  \n",
       "std     938.233100  \n",
       "min      34.080783  \n",
       "25%     900.952180  \n",
       "50%    1267.438320  \n",
       "75%    1960.441987  \n",
       "max    6533.047651  "
      ]
     },
     "execution_count": 7,
     "metadata": {},
     "output_type": "execute_result"
    }
   ],
   "source": [
    "df.describe()"
   ]
  },
  {
   "cell_type": "markdown",
   "metadata": {},
   "source": [
    "<h3>Preparing data for Regression<h3>"
   ]
  },
  {
   "cell_type": "code",
   "execution_count": 8,
   "metadata": {
    "collapsed": true
   },
   "outputs": [],
   "source": [
    "#assigning the aircraft categorical data numeric values\n",
    "OneHotEncoded = pd.get_dummies(df['aircraft'].tolist())\n",
    "df = df.drop('aircraft', 1)\n",
    "df = pd.concat([OneHotEncoded, df], axis=1)"
   ]
  },
  {
   "cell_type": "code",
   "execution_count": 9,
   "metadata": {},
   "outputs": [
    {
     "data": {
      "text/html": [
       "<div>\n",
       "<style>\n",
       "    .dataframe thead tr:only-child th {\n",
       "        text-align: right;\n",
       "    }\n",
       "\n",
       "    .dataframe thead th {\n",
       "        text-align: left;\n",
       "    }\n",
       "\n",
       "    .dataframe tbody tr th {\n",
       "        vertical-align: top;\n",
       "    }\n",
       "</style>\n",
       "<table border=\"1\" class=\"dataframe\">\n",
       "  <thead>\n",
       "    <tr style=\"text-align: right;\">\n",
       "      <th></th>\n",
       "      <th>airbus</th>\n",
       "      <th>boeing</th>\n",
       "      <th>duration</th>\n",
       "      <th>no_pasg</th>\n",
       "      <th>speed_ground</th>\n",
       "      <th>height</th>\n",
       "      <th>pitch</th>\n",
       "      <th>distance</th>\n",
       "    </tr>\n",
       "  </thead>\n",
       "  <tbody>\n",
       "    <tr>\n",
       "      <th>0</th>\n",
       "      <td>0</td>\n",
       "      <td>1</td>\n",
       "      <td>98.479091</td>\n",
       "      <td>53</td>\n",
       "      <td>107.915680</td>\n",
       "      <td>27.418924</td>\n",
       "      <td>4.043515</td>\n",
       "      <td>3369.836364</td>\n",
       "    </tr>\n",
       "    <tr>\n",
       "      <th>1</th>\n",
       "      <td>0</td>\n",
       "      <td>1</td>\n",
       "      <td>125.733297</td>\n",
       "      <td>69</td>\n",
       "      <td>101.655589</td>\n",
       "      <td>27.804716</td>\n",
       "      <td>4.117432</td>\n",
       "      <td>2987.803924</td>\n",
       "    </tr>\n",
       "    <tr>\n",
       "      <th>2</th>\n",
       "      <td>0</td>\n",
       "      <td>1</td>\n",
       "      <td>112.017001</td>\n",
       "      <td>61</td>\n",
       "      <td>71.051961</td>\n",
       "      <td>18.589386</td>\n",
       "      <td>4.434043</td>\n",
       "      <td>1144.922426</td>\n",
       "    </tr>\n",
       "    <tr>\n",
       "      <th>3</th>\n",
       "      <td>0</td>\n",
       "      <td>1</td>\n",
       "      <td>196.825691</td>\n",
       "      <td>56</td>\n",
       "      <td>85.813328</td>\n",
       "      <td>30.744597</td>\n",
       "      <td>3.884236</td>\n",
       "      <td>1664.218158</td>\n",
       "    </tr>\n",
       "    <tr>\n",
       "      <th>4</th>\n",
       "      <td>0</td>\n",
       "      <td>1</td>\n",
       "      <td>90.095381</td>\n",
       "      <td>70</td>\n",
       "      <td>59.888528</td>\n",
       "      <td>32.397688</td>\n",
       "      <td>4.026096</td>\n",
       "      <td>1050.264498</td>\n",
       "    </tr>\n",
       "  </tbody>\n",
       "</table>\n",
       "</div>"
      ],
      "text/plain": [
       "   airbus  boeing    duration  no_pasg  speed_ground     height     pitch  \\\n",
       "0       0       1   98.479091       53    107.915680  27.418924  4.043515   \n",
       "1       0       1  125.733297       69    101.655589  27.804716  4.117432   \n",
       "2       0       1  112.017001       61     71.051961  18.589386  4.434043   \n",
       "3       0       1  196.825691       56     85.813328  30.744597  3.884236   \n",
       "4       0       1   90.095381       70     59.888528  32.397688  4.026096   \n",
       "\n",
       "      distance  \n",
       "0  3369.836364  \n",
       "1  2987.803924  \n",
       "2  1144.922426  \n",
       "3  1664.218158  \n",
       "4  1050.264498  "
      ]
     },
     "execution_count": 9,
     "metadata": {},
     "output_type": "execute_result"
    }
   ],
   "source": [
    "df.head()"
   ]
  },
  {
   "cell_type": "code",
   "execution_count": 10,
   "metadata": {
    "collapsed": true
   },
   "outputs": [],
   "source": [
    "#The problem statement is to determine the landing distance. Hence 'distance' will be the dependent variable. Lets split the dataset\n",
    "#into X (independent variables) and y (dependent variable)\n",
    "\n",
    "X = df.iloc[:,:-1].values\n",
    "y = df.iloc[:, 7].values\n",
    "\n",
    "#avoiding the dummy variable trap\n",
    "X = X[:, 1:]"
   ]
  },
  {
   "cell_type": "markdown",
   "metadata": {},
   "source": [
    "<h3>Modeling<h3> "
   ]
  },
  {
   "cell_type": "code",
   "execution_count": 11,
   "metadata": {
    "collapsed": true
   },
   "outputs": [],
   "source": [
    "#building optimal model using backward elimination \n",
    "import statsmodels.formula.api as sm\n",
    "X = np.append(arr=np.ones((800,1)).astype(int), values = X, axis=1)"
   ]
  },
  {
   "cell_type": "code",
   "execution_count": 12,
   "metadata": {},
   "outputs": [
    {
     "data": {
      "text/html": [
       "<table class=\"simpletable\">\n",
       "<caption>OLS Regression Results</caption>\n",
       "<tr>\n",
       "  <th>Dep. Variable:</th>            <td>y</td>        <th>  R-squared:         </th> <td>   0.844</td> \n",
       "</tr>\n",
       "<tr>\n",
       "  <th>Model:</th>                   <td>OLS</td>       <th>  Adj. R-squared:    </th> <td>   0.843</td> \n",
       "</tr>\n",
       "<tr>\n",
       "  <th>Method:</th>             <td>Least Squares</td>  <th>  F-statistic:       </th> <td>   713.6</td> \n",
       "</tr>\n",
       "<tr>\n",
       "  <th>Date:</th>             <td>Sat, 12 Aug 2017</td> <th>  Prob (F-statistic):</th> <td>1.35e-315</td>\n",
       "</tr>\n",
       "<tr>\n",
       "  <th>Time:</th>                 <td>22:49:06</td>     <th>  Log-Likelihood:    </th> <td> -5867.4</td> \n",
       "</tr>\n",
       "<tr>\n",
       "  <th>No. Observations:</th>      <td>   800</td>      <th>  AIC:               </th> <td>1.175e+04</td>\n",
       "</tr>\n",
       "<tr>\n",
       "  <th>Df Residuals:</th>          <td>   793</td>      <th>  BIC:               </th> <td>1.178e+04</td>\n",
       "</tr>\n",
       "<tr>\n",
       "  <th>Df Model:</th>              <td>     6</td>      <th>                     </th>     <td> </td>    \n",
       "</tr>\n",
       "<tr>\n",
       "  <th>Covariance Type:</th>      <td>nonrobust</td>    <th>                     </th>     <td> </td>    \n",
       "</tr>\n",
       "</table>\n",
       "<table class=\"simpletable\">\n",
       "<tr>\n",
       "    <td></td>       <th>coef</th>     <th>std err</th>      <th>t</th>      <th>P>|t|</th>  <th>[0.025</th>    <th>0.975]</th>  \n",
       "</tr>\n",
       "<tr>\n",
       "  <th>const</th> <td>-2582.5063</td> <td>  172.242</td> <td>  -14.993</td> <td> 0.000</td> <td>-2920.610</td> <td>-2244.402</td>\n",
       "</tr>\n",
       "<tr>\n",
       "  <th>x1</th>    <td>  499.2367</td> <td>   28.315</td> <td>   17.632</td> <td> 0.000</td> <td>  443.656</td> <td>  554.817</td>\n",
       "</tr>\n",
       "<tr>\n",
       "  <th>x2</th>    <td>    0.0742</td> <td>    0.268</td> <td>    0.277</td> <td> 0.782</td> <td>   -0.453</td> <td>    0.601</td>\n",
       "</tr>\n",
       "<tr>\n",
       "  <th>x3</th>    <td>   -2.1437</td> <td>    1.752</td> <td>   -1.224</td> <td> 0.221</td> <td>   -5.582</td> <td>    1.295</td>\n",
       "</tr>\n",
       "<tr>\n",
       "  <th>x4</th>    <td>   42.8512</td> <td>    0.687</td> <td>   62.353</td> <td> 0.000</td> <td>   41.502</td> <td>   44.200</td>\n",
       "</tr>\n",
       "<tr>\n",
       "  <th>x5</th>    <td>   14.0554</td> <td>    1.283</td> <td>   10.958</td> <td> 0.000</td> <td>   11.538</td> <td>   16.573</td>\n",
       "</tr>\n",
       "<tr>\n",
       "  <th>x6</th>    <td>   40.5780</td> <td>   26.975</td> <td>    1.504</td> <td> 0.133</td> <td>  -12.373</td> <td>   93.529</td>\n",
       "</tr>\n",
       "</table>\n",
       "<table class=\"simpletable\">\n",
       "<tr>\n",
       "  <th>Omnibus:</th>       <td>310.879</td> <th>  Durbin-Watson:     </th> <td>   1.989</td> \n",
       "</tr>\n",
       "<tr>\n",
       "  <th>Prob(Omnibus):</th> <td> 0.000</td>  <th>  Jarque-Bera (JB):  </th> <td>1175.281</td> \n",
       "</tr>\n",
       "<tr>\n",
       "  <th>Skew:</th>          <td> 1.840</td>  <th>  Prob(JB):          </th> <td>6.18e-256</td>\n",
       "</tr>\n",
       "<tr>\n",
       "  <th>Kurtosis:</th>      <td> 7.660</td>  <th>  Cond. No.          </th> <td>2.51e+03</td> \n",
       "</tr>\n",
       "</table>"
      ],
      "text/plain": [
       "<class 'statsmodels.iolib.summary.Summary'>\n",
       "\"\"\"\n",
       "                            OLS Regression Results                            \n",
       "==============================================================================\n",
       "Dep. Variable:                      y   R-squared:                       0.844\n",
       "Model:                            OLS   Adj. R-squared:                  0.843\n",
       "Method:                 Least Squares   F-statistic:                     713.6\n",
       "Date:                Sat, 12 Aug 2017   Prob (F-statistic):          1.35e-315\n",
       "Time:                        22:49:06   Log-Likelihood:                -5867.4\n",
       "No. Observations:                 800   AIC:                         1.175e+04\n",
       "Df Residuals:                     793   BIC:                         1.178e+04\n",
       "Df Model:                           6                                         \n",
       "Covariance Type:            nonrobust                                         \n",
       "==============================================================================\n",
       "                 coef    std err          t      P>|t|      [0.025      0.975]\n",
       "------------------------------------------------------------------------------\n",
       "const      -2582.5063    172.242    -14.993      0.000   -2920.610   -2244.402\n",
       "x1           499.2367     28.315     17.632      0.000     443.656     554.817\n",
       "x2             0.0742      0.268      0.277      0.782      -0.453       0.601\n",
       "x3            -2.1437      1.752     -1.224      0.221      -5.582       1.295\n",
       "x4            42.8512      0.687     62.353      0.000      41.502      44.200\n",
       "x5            14.0554      1.283     10.958      0.000      11.538      16.573\n",
       "x6            40.5780     26.975      1.504      0.133     -12.373      93.529\n",
       "==============================================================================\n",
       "Omnibus:                      310.879   Durbin-Watson:                   1.989\n",
       "Prob(Omnibus):                  0.000   Jarque-Bera (JB):             1175.281\n",
       "Skew:                           1.840   Prob(JB):                    6.18e-256\n",
       "Kurtosis:                       7.660   Cond. No.                     2.51e+03\n",
       "==============================================================================\n",
       "\n",
       "Warnings:\n",
       "[1] Standard Errors assume that the covariance matrix of the errors is correctly specified.\n",
       "[2] The condition number is large, 2.51e+03. This might indicate that there are\n",
       "strong multicollinearity or other numerical problems.\n",
       "\"\"\""
      ]
     },
     "execution_count": 12,
     "metadata": {},
     "output_type": "execute_result"
    }
   ],
   "source": [
    "X_opt = X[:, [0,1,2,3,4,5,6]]\n",
    "regressor_OLS = sm.OLS(endog = y, exog = X_opt).fit()\n",
    "regressor_OLS.summary()"
   ]
  },
  {
   "cell_type": "markdown",
   "metadata": {},
   "source": [
    "<span>We can see that the P-value for x2 (which is the duration column) is higher that the 0.05 significance level. Hence we re-fit the model without this variable<span>"
   ]
  },
  {
   "cell_type": "code",
   "execution_count": 13,
   "metadata": {},
   "outputs": [
    {
     "data": {
      "text/html": [
       "<table class=\"simpletable\">\n",
       "<caption>OLS Regression Results</caption>\n",
       "<tr>\n",
       "  <th>Dep. Variable:</th>            <td>y</td>        <th>  R-squared:         </th> <td>   0.844</td> \n",
       "</tr>\n",
       "<tr>\n",
       "  <th>Model:</th>                   <td>OLS</td>       <th>  Adj. R-squared:    </th> <td>   0.843</td> \n",
       "</tr>\n",
       "<tr>\n",
       "  <th>Method:</th>             <td>Least Squares</td>  <th>  F-statistic:       </th> <td>   857.3</td> \n",
       "</tr>\n",
       "<tr>\n",
       "  <th>Date:</th>             <td>Sat, 12 Aug 2017</td> <th>  Prob (F-statistic):</th> <td>4.55e-317</td>\n",
       "</tr>\n",
       "<tr>\n",
       "  <th>Time:</th>                 <td>22:49:07</td>     <th>  Log-Likelihood:    </th> <td> -5867.4</td> \n",
       "</tr>\n",
       "<tr>\n",
       "  <th>No. Observations:</th>      <td>   800</td>      <th>  AIC:               </th> <td>1.175e+04</td>\n",
       "</tr>\n",
       "<tr>\n",
       "  <th>Df Residuals:</th>          <td>   794</td>      <th>  BIC:               </th> <td>1.177e+04</td>\n",
       "</tr>\n",
       "<tr>\n",
       "  <th>Df Model:</th>              <td>     5</td>      <th>                     </th>     <td> </td>    \n",
       "</tr>\n",
       "<tr>\n",
       "  <th>Covariance Type:</th>      <td>nonrobust</td>    <th>                     </th>     <td> </td>    \n",
       "</tr>\n",
       "</table>\n",
       "<table class=\"simpletable\">\n",
       "<tr>\n",
       "    <td></td>       <th>coef</th>     <th>std err</th>      <th>t</th>      <th>P>|t|</th>  <th>[0.025</th>    <th>0.975]</th>  \n",
       "</tr>\n",
       "<tr>\n",
       "  <th>const</th> <td>-2568.0526</td> <td>  164.029</td> <td>  -15.656</td> <td> 0.000</td> <td>-2890.033</td> <td>-2246.072</td>\n",
       "</tr>\n",
       "<tr>\n",
       "  <th>x1</th>    <td>  498.9704</td> <td>   28.282</td> <td>   17.643</td> <td> 0.000</td> <td>  443.455</td> <td>  554.486</td>\n",
       "</tr>\n",
       "<tr>\n",
       "  <th>x2</th>    <td>   -2.1610</td> <td>    1.749</td> <td>   -1.235</td> <td> 0.217</td> <td>   -5.595</td> <td>    1.273</td>\n",
       "</tr>\n",
       "<tr>\n",
       "  <th>x3</th>    <td>   42.8391</td> <td>    0.685</td> <td>   62.499</td> <td> 0.000</td> <td>   41.494</td> <td>   44.185</td>\n",
       "</tr>\n",
       "<tr>\n",
       "  <th>x4</th>    <td>   14.0528</td> <td>    1.282</td> <td>   10.963</td> <td> 0.000</td> <td>   11.537</td> <td>   16.569</td>\n",
       "</tr>\n",
       "<tr>\n",
       "  <th>x5</th>    <td>   40.3784</td> <td>   26.950</td> <td>    1.498</td> <td> 0.134</td> <td>  -12.523</td> <td>   93.280</td>\n",
       "</tr>\n",
       "</table>\n",
       "<table class=\"simpletable\">\n",
       "<tr>\n",
       "  <th>Omnibus:</th>       <td>311.093</td> <th>  Durbin-Watson:     </th> <td>   1.989</td> \n",
       "</tr>\n",
       "<tr>\n",
       "  <th>Prob(Omnibus):</th> <td> 0.000</td>  <th>  Jarque-Bera (JB):  </th> <td>1177.460</td> \n",
       "</tr>\n",
       "<tr>\n",
       "  <th>Skew:</th>          <td> 1.841</td>  <th>  Prob(JB):          </th> <td>2.08e-256</td>\n",
       "</tr>\n",
       "<tr>\n",
       "  <th>Kurtosis:</th>      <td> 7.665</td>  <th>  Cond. No.          </th> <td>1.32e+03</td> \n",
       "</tr>\n",
       "</table>"
      ],
      "text/plain": [
       "<class 'statsmodels.iolib.summary.Summary'>\n",
       "\"\"\"\n",
       "                            OLS Regression Results                            \n",
       "==============================================================================\n",
       "Dep. Variable:                      y   R-squared:                       0.844\n",
       "Model:                            OLS   Adj. R-squared:                  0.843\n",
       "Method:                 Least Squares   F-statistic:                     857.3\n",
       "Date:                Sat, 12 Aug 2017   Prob (F-statistic):          4.55e-317\n",
       "Time:                        22:49:07   Log-Likelihood:                -5867.4\n",
       "No. Observations:                 800   AIC:                         1.175e+04\n",
       "Df Residuals:                     794   BIC:                         1.177e+04\n",
       "Df Model:                           5                                         \n",
       "Covariance Type:            nonrobust                                         \n",
       "==============================================================================\n",
       "                 coef    std err          t      P>|t|      [0.025      0.975]\n",
       "------------------------------------------------------------------------------\n",
       "const      -2568.0526    164.029    -15.656      0.000   -2890.033   -2246.072\n",
       "x1           498.9704     28.282     17.643      0.000     443.455     554.486\n",
       "x2            -2.1610      1.749     -1.235      0.217      -5.595       1.273\n",
       "x3            42.8391      0.685     62.499      0.000      41.494      44.185\n",
       "x4            14.0528      1.282     10.963      0.000      11.537      16.569\n",
       "x5            40.3784     26.950      1.498      0.134     -12.523      93.280\n",
       "==============================================================================\n",
       "Omnibus:                      311.093   Durbin-Watson:                   1.989\n",
       "Prob(Omnibus):                  0.000   Jarque-Bera (JB):             1177.460\n",
       "Skew:                           1.841   Prob(JB):                    2.08e-256\n",
       "Kurtosis:                       7.665   Cond. No.                     1.32e+03\n",
       "==============================================================================\n",
       "\n",
       "Warnings:\n",
       "[1] Standard Errors assume that the covariance matrix of the errors is correctly specified.\n",
       "[2] The condition number is large, 1.32e+03. This might indicate that there are\n",
       "strong multicollinearity or other numerical problems.\n",
       "\"\"\""
      ]
     },
     "execution_count": 13,
     "metadata": {},
     "output_type": "execute_result"
    }
   ],
   "source": [
    "X_opt = X[:, [0,1,3,4,5,6]]\n",
    "regressor_OLS = sm.OLS(endog = y, exog = X_opt).fit()\n",
    "regressor_OLS.summary()"
   ]
  },
  {
   "cell_type": "markdown",
   "metadata": {},
   "source": [
    "<span>We can see that the P-value for x2 (which is the no_pasg column) is higher that the 0.05 significance level. Hence we re-fit the model without this variable<span>"
   ]
  },
  {
   "cell_type": "code",
   "execution_count": 14,
   "metadata": {},
   "outputs": [
    {
     "data": {
      "text/html": [
       "<table class=\"simpletable\">\n",
       "<caption>OLS Regression Results</caption>\n",
       "<tr>\n",
       "  <th>Dep. Variable:</th>            <td>y</td>        <th>  R-squared:         </th> <td>   0.843</td> \n",
       "</tr>\n",
       "<tr>\n",
       "  <th>Model:</th>                   <td>OLS</td>       <th>  Adj. R-squared:    </th> <td>   0.843</td> \n",
       "</tr>\n",
       "<tr>\n",
       "  <th>Method:</th>             <td>Least Squares</td>  <th>  F-statistic:       </th> <td>   1070.</td> \n",
       "</tr>\n",
       "<tr>\n",
       "  <th>Date:</th>             <td>Sat, 12 Aug 2017</td> <th>  Prob (F-statistic):</th> <td>2.80e-318</td>\n",
       "</tr>\n",
       "<tr>\n",
       "  <th>Time:</th>                 <td>22:49:07</td>     <th>  Log-Likelihood:    </th> <td> -5868.2</td> \n",
       "</tr>\n",
       "<tr>\n",
       "  <th>No. Observations:</th>      <td>   800</td>      <th>  AIC:               </th> <td>1.175e+04</td>\n",
       "</tr>\n",
       "<tr>\n",
       "  <th>Df Residuals:</th>          <td>   795</td>      <th>  BIC:               </th> <td>1.177e+04</td>\n",
       "</tr>\n",
       "<tr>\n",
       "  <th>Df Model:</th>              <td>     4</td>      <th>                     </th>     <td> </td>    \n",
       "</tr>\n",
       "<tr>\n",
       "  <th>Covariance Type:</th>      <td>nonrobust</td>    <th>                     </th>     <td> </td>    \n",
       "</tr>\n",
       "</table>\n",
       "<table class=\"simpletable\">\n",
       "<tr>\n",
       "    <td></td>       <th>coef</th>     <th>std err</th>      <th>t</th>      <th>P>|t|</th>  <th>[0.025</th>    <th>0.975]</th>  \n",
       "</tr>\n",
       "<tr>\n",
       "  <th>const</th> <td>-2699.3101</td> <td>  124.999</td> <td>  -21.595</td> <td> 0.000</td> <td>-2944.677</td> <td>-2453.944</td>\n",
       "</tr>\n",
       "<tr>\n",
       "  <th>x1</th>    <td>  499.7709</td> <td>   28.284</td> <td>   17.670</td> <td> 0.000</td> <td>  444.251</td> <td>  555.290</td>\n",
       "</tr>\n",
       "<tr>\n",
       "  <th>x2</th>    <td>   42.8459</td> <td>    0.686</td> <td>   62.490</td> <td> 0.000</td> <td>   41.500</td> <td>   44.192</td>\n",
       "</tr>\n",
       "<tr>\n",
       "  <th>x3</th>    <td>   14.0535</td> <td>    1.282</td> <td>   10.960</td> <td> 0.000</td> <td>   11.536</td> <td>   16.570</td>\n",
       "</tr>\n",
       "<tr>\n",
       "  <th>x4</th>    <td>   40.4663</td> <td>   26.959</td> <td>    1.501</td> <td> 0.134</td> <td>  -12.452</td> <td>   93.385</td>\n",
       "</tr>\n",
       "</table>\n",
       "<table class=\"simpletable\">\n",
       "<tr>\n",
       "  <th>Omnibus:</th>       <td>311.683</td> <th>  Durbin-Watson:     </th> <td>   1.988</td> \n",
       "</tr>\n",
       "<tr>\n",
       "  <th>Prob(Omnibus):</th> <td> 0.000</td>  <th>  Jarque-Bera (JB):  </th> <td>1182.912</td> \n",
       "</tr>\n",
       "<tr>\n",
       "  <th>Skew:</th>          <td> 1.844</td>  <th>  Prob(JB):          </th> <td>1.36e-257</td>\n",
       "</tr>\n",
       "<tr>\n",
       "  <th>Kurtosis:</th>      <td> 7.679</td>  <th>  Cond. No.          </th> <td>    841.</td> \n",
       "</tr>\n",
       "</table>"
      ],
      "text/plain": [
       "<class 'statsmodels.iolib.summary.Summary'>\n",
       "\"\"\"\n",
       "                            OLS Regression Results                            \n",
       "==============================================================================\n",
       "Dep. Variable:                      y   R-squared:                       0.843\n",
       "Model:                            OLS   Adj. R-squared:                  0.843\n",
       "Method:                 Least Squares   F-statistic:                     1070.\n",
       "Date:                Sat, 12 Aug 2017   Prob (F-statistic):          2.80e-318\n",
       "Time:                        22:49:07   Log-Likelihood:                -5868.2\n",
       "No. Observations:                 800   AIC:                         1.175e+04\n",
       "Df Residuals:                     795   BIC:                         1.177e+04\n",
       "Df Model:                           4                                         \n",
       "Covariance Type:            nonrobust                                         \n",
       "==============================================================================\n",
       "                 coef    std err          t      P>|t|      [0.025      0.975]\n",
       "------------------------------------------------------------------------------\n",
       "const      -2699.3101    124.999    -21.595      0.000   -2944.677   -2453.944\n",
       "x1           499.7709     28.284     17.670      0.000     444.251     555.290\n",
       "x2            42.8459      0.686     62.490      0.000      41.500      44.192\n",
       "x3            14.0535      1.282     10.960      0.000      11.536      16.570\n",
       "x4            40.4663     26.959      1.501      0.134     -12.452      93.385\n",
       "==============================================================================\n",
       "Omnibus:                      311.683   Durbin-Watson:                   1.988\n",
       "Prob(Omnibus):                  0.000   Jarque-Bera (JB):             1182.912\n",
       "Skew:                           1.844   Prob(JB):                    1.36e-257\n",
       "Kurtosis:                       7.679   Cond. No.                         841.\n",
       "==============================================================================\n",
       "\n",
       "Warnings:\n",
       "[1] Standard Errors assume that the covariance matrix of the errors is correctly specified.\n",
       "\"\"\""
      ]
     },
     "execution_count": 14,
     "metadata": {},
     "output_type": "execute_result"
    }
   ],
   "source": [
    "X_opt = X[:, [0,1,4,5,6]]\n",
    "regressor_OLS = sm.OLS(endog = y, exog = X_opt).fit()\n",
    "regressor_OLS.summary()"
   ]
  },
  {
   "cell_type": "markdown",
   "metadata": {},
   "source": [
    "<span>We can see that the P-value for x4 (which is the pitch column) is higher that the 0.05 significance level. Hence we re-fit the model without this variable<span>"
   ]
  },
  {
   "cell_type": "code",
   "execution_count": 15,
   "metadata": {},
   "outputs": [
    {
     "data": {
      "text/html": [
       "<table class=\"simpletable\">\n",
       "<caption>OLS Regression Results</caption>\n",
       "<tr>\n",
       "  <th>Dep. Variable:</th>            <td>y</td>        <th>  R-squared:         </th> <td>   0.843</td> \n",
       "</tr>\n",
       "<tr>\n",
       "  <th>Model:</th>                   <td>OLS</td>       <th>  Adj. R-squared:    </th> <td>   0.842</td> \n",
       "</tr>\n",
       "<tr>\n",
       "  <th>Method:</th>             <td>Least Squares</td>  <th>  F-statistic:       </th> <td>   1424.</td> \n",
       "</tr>\n",
       "<tr>\n",
       "  <th>Date:</th>             <td>Sat, 12 Aug 2017</td> <th>  Prob (F-statistic):</th> <td>2.10e-319</td>\n",
       "</tr>\n",
       "<tr>\n",
       "  <th>Time:</th>                 <td>22:49:08</td>     <th>  Log-Likelihood:    </th> <td> -5869.3</td> \n",
       "</tr>\n",
       "<tr>\n",
       "  <th>No. Observations:</th>      <td>   800</td>      <th>  AIC:               </th> <td>1.175e+04</td>\n",
       "</tr>\n",
       "<tr>\n",
       "  <th>Df Residuals:</th>          <td>   796</td>      <th>  BIC:               </th> <td>1.177e+04</td>\n",
       "</tr>\n",
       "<tr>\n",
       "  <th>Df Model:</th>              <td>     3</td>      <th>                     </th>     <td> </td>    \n",
       "</tr>\n",
       "<tr>\n",
       "  <th>Covariance Type:</th>      <td>nonrobust</td>    <th>                     </th>     <td> </td>    \n",
       "</tr>\n",
       "</table>\n",
       "<table class=\"simpletable\">\n",
       "<tr>\n",
       "    <td></td>       <th>coef</th>     <th>std err</th>      <th>t</th>      <th>P>|t|</th>  <th>[0.025</th>    <th>0.975]</th>  \n",
       "</tr>\n",
       "<tr>\n",
       "  <th>const</th> <td>-2544.1153</td> <td>   70.306</td> <td>  -36.187</td> <td> 0.000</td> <td>-2682.121</td> <td>-2406.109</td>\n",
       "</tr>\n",
       "<tr>\n",
       "  <th>x1</th>    <td>  515.1843</td> <td>   26.375</td> <td>   19.533</td> <td> 0.000</td> <td>  463.412</td> <td>  566.956</td>\n",
       "</tr>\n",
       "<tr>\n",
       "  <th>x2</th>    <td>   42.8191</td> <td>    0.686</td> <td>   62.423</td> <td> 0.000</td> <td>   41.473</td> <td>   44.166</td>\n",
       "</tr>\n",
       "<tr>\n",
       "  <th>x3</th>    <td>   14.1144</td> <td>    1.283</td> <td>   11.004</td> <td> 0.000</td> <td>   11.597</td> <td>   16.632</td>\n",
       "</tr>\n",
       "</table>\n",
       "<table class=\"simpletable\">\n",
       "<tr>\n",
       "  <th>Omnibus:</th>       <td>314.023</td> <th>  Durbin-Watson:     </th> <td>   1.989</td> \n",
       "</tr>\n",
       "<tr>\n",
       "  <th>Prob(Omnibus):</th> <td> 0.000</td>  <th>  Jarque-Bera (JB):  </th> <td>1209.965</td> \n",
       "</tr>\n",
       "<tr>\n",
       "  <th>Skew:</th>          <td> 1.852</td>  <th>  Prob(JB):          </th> <td>1.82e-263</td>\n",
       "</tr>\n",
       "<tr>\n",
       "  <th>Kurtosis:</th>      <td> 7.751</td>  <th>  Cond. No.          </th> <td>    467.</td> \n",
       "</tr>\n",
       "</table>"
      ],
      "text/plain": [
       "<class 'statsmodels.iolib.summary.Summary'>\n",
       "\"\"\"\n",
       "                            OLS Regression Results                            \n",
       "==============================================================================\n",
       "Dep. Variable:                      y   R-squared:                       0.843\n",
       "Model:                            OLS   Adj. R-squared:                  0.842\n",
       "Method:                 Least Squares   F-statistic:                     1424.\n",
       "Date:                Sat, 12 Aug 2017   Prob (F-statistic):          2.10e-319\n",
       "Time:                        22:49:08   Log-Likelihood:                -5869.3\n",
       "No. Observations:                 800   AIC:                         1.175e+04\n",
       "Df Residuals:                     796   BIC:                         1.177e+04\n",
       "Df Model:                           3                                         \n",
       "Covariance Type:            nonrobust                                         \n",
       "==============================================================================\n",
       "                 coef    std err          t      P>|t|      [0.025      0.975]\n",
       "------------------------------------------------------------------------------\n",
       "const      -2544.1153     70.306    -36.187      0.000   -2682.121   -2406.109\n",
       "x1           515.1843     26.375     19.533      0.000     463.412     566.956\n",
       "x2            42.8191      0.686     62.423      0.000      41.473      44.166\n",
       "x3            14.1144      1.283     11.004      0.000      11.597      16.632\n",
       "==============================================================================\n",
       "Omnibus:                      314.023   Durbin-Watson:                   1.989\n",
       "Prob(Omnibus):                  0.000   Jarque-Bera (JB):             1209.965\n",
       "Skew:                           1.852   Prob(JB):                    1.82e-263\n",
       "Kurtosis:                       7.751   Cond. No.                         467.\n",
       "==============================================================================\n",
       "\n",
       "Warnings:\n",
       "[1] Standard Errors assume that the covariance matrix of the errors is correctly specified.\n",
       "\"\"\""
      ]
     },
     "execution_count": 15,
     "metadata": {},
     "output_type": "execute_result"
    }
   ],
   "source": [
    "X_opt = X[:, [0,1,4,5]]\n",
    "regressor_OLS = sm.OLS(endog = y, exog = X_opt).fit()\n",
    "regressor_OLS.summary()"
   ]
  },
  {
   "cell_type": "code",
   "execution_count": 16,
   "metadata": {
    "collapsed": true
   },
   "outputs": [],
   "source": [
    "#dropping columns - duration, no_pasg and pitch as they do not add any value to the model\n",
    "df = df.drop('duration', 1)\n",
    "df = df.drop('no_pasg', 1)\n",
    "df = df.drop('pitch', 1)\n",
    "\n",
    "\n",
    "X = df.iloc[:,:-1].values\n",
    "y = df.iloc[:, 4].values\n",
    "\n",
    "#avoiding the dummy variable trap\n",
    "X = X[:, 1:]\n",
    "\n",
    "#splitting data into training and testing set\n",
    "X_train, X_test, y_train, y_test = train_test_split(X, y, test_size=0.2, random_state=0)\n",
    "\n",
    "#fitting the model\n",
    "regressor = LinearRegression()\n",
    "regressor.fit(X_train, y_train)\n",
    "\n",
    "y_pred = regressor.predict(X_test)"
   ]
  },
  {
   "cell_type": "code",
   "execution_count": 17,
   "metadata": {},
   "outputs": [
    {
     "data": {
      "image/png": "[encoded data removed]",
      "text/plain": [
       "<matplotlib.figure.Figure at 0x5e32330>"
      ]
     },
     "metadata": {},
     "output_type": "display_data"
    }
   ],
   "source": [
    "#plotting the residuals of the predicted and actual results to check the best fit for the model \n",
    "from seaborn import residplot\n",
    "residplot(y_pred, y_test)\n",
    "plt.show()"
   ]
  },
  {
   "cell_type": "markdown",
   "metadata": {},
   "source": [
    "<span> Since we can see a patter between the residuals of the predicted and the actual values, it indicates that there is a relationship amoung them. We can introduce a squared term to find out more information<span>"
   ]
  },
  {
   "cell_type": "code",
   "execution_count": 18,
   "metadata": {},
   "outputs": [
    {
     "data": {
      "text/plain": [
       "LinearRegression(copy_X=True, fit_intercept=True, n_jobs=1, normalize=False)"
      ]
     },
     "execution_count": 18,
     "metadata": {},
     "output_type": "execute_result"
    }
   ],
   "source": [
    "from sklearn.preprocessing import PolynomialFeatures\n",
    "poly_reg = PolynomialFeatures(degree=2)\n",
    "X_poly = poly_reg.fit_transform(X_train)\n",
    "poly_reg.fit(X_poly, y_train)\n",
    "lin_reg_2 = LinearRegression()\n",
    "lin_reg_2.fit(X_poly, y_train)"
   ]
  },
  {
   "cell_type": "code",
   "execution_count": 20,
   "metadata": {
    "collapsed": true
   },
   "outputs": [],
   "source": [
    "poly_reg_test = PolynomialFeatures(degree=2)\n",
    "X_poly_test = poly_reg_test.fit_transform(X_test)\n",
    "y_pred_2 = lin_reg_2.predict(X_poly_test)"
   ]
  },
  {
   "cell_type": "code",
   "execution_count": 21,
   "metadata": {},
   "outputs": [
    {
     "data": {
      "image/png": "[encoded data removed]",
      "text/plain": [
       "<matplotlib.figure.Figure at 0x91a58d0>"
      ]
     },
     "metadata": {},
     "output_type": "display_data"
    }
   ],
   "source": [
    "residplot(y_pred_2, y_test)\n",
    "plt.show()"
   ]
  },
  {
   "cell_type": "code",
   "execution_count": 22,
   "metadata": {},
   "outputs": [
    {
     "data": {
      "text/plain": [
       "0.97549499744026325"
      ]
     },
     "execution_count": 22,
     "metadata": {},
     "output_type": "execute_result"
    }
   ],
   "source": [
    "lin_reg_2.score(X_poly_test, y_test)"
   ]
  },
  {
   "cell_type": "code",
   "execution_count": 23,
   "metadata": {},
   "outputs": [
    {
     "data": {
      "text/plain": [
       "array([  0.00000000e+00,   1.91275057e+02,  -7.08174594e+01,\n",
       "         1.23197287e+01,   1.91275057e+02,   4.84925076e-01,\n",
       "        -5.76004086e-01,   7.02410065e-01,  -4.79126586e-03,\n",
       "         2.96370743e-02])"
      ]
     },
     "execution_count": 23,
     "metadata": {},
     "output_type": "execute_result"
    }
   ],
   "source": [
    "lin_reg_2.coef_"
   ]
  },
  {
   "cell_type": "code",
   "execution_count": 24,
   "metadata": {},
   "outputs": [
    {
     "data": {
      "text/html": [
       "<table class=\"simpletable\">\n",
       "<caption>OLS Regression Results</caption>\n",
       "<tr>\n",
       "  <th>Dep. Variable:</th>            <td>y</td>        <th>  R-squared:         </th> <td>   0.843</td> \n",
       "</tr>\n",
       "<tr>\n",
       "  <th>Model:</th>                   <td>OLS</td>       <th>  Adj. R-squared:    </th> <td>   0.842</td> \n",
       "</tr>\n",
       "<tr>\n",
       "  <th>Method:</th>             <td>Least Squares</td>  <th>  F-statistic:       </th> <td>   1424.</td> \n",
       "</tr>\n",
       "<tr>\n",
       "  <th>Date:</th>             <td>Sat, 12 Aug 2017</td> <th>  Prob (F-statistic):</th> <td>2.10e-319</td>\n",
       "</tr>\n",
       "<tr>\n",
       "  <th>Time:</th>                 <td>22:49:49</td>     <th>  Log-Likelihood:    </th> <td> -5869.3</td> \n",
       "</tr>\n",
       "<tr>\n",
       "  <th>No. Observations:</th>      <td>   800</td>      <th>  AIC:               </th> <td>1.175e+04</td>\n",
       "</tr>\n",
       "<tr>\n",
       "  <th>Df Residuals:</th>          <td>   796</td>      <th>  BIC:               </th> <td>1.177e+04</td>\n",
       "</tr>\n",
       "<tr>\n",
       "  <th>Df Model:</th>              <td>     3</td>      <th>                     </th>     <td> </td>    \n",
       "</tr>\n",
       "<tr>\n",
       "  <th>Covariance Type:</th>      <td>nonrobust</td>    <th>                     </th>     <td> </td>    \n",
       "</tr>\n",
       "</table>\n",
       "<table class=\"simpletable\">\n",
       "<tr>\n",
       "    <td></td>       <th>coef</th>     <th>std err</th>      <th>t</th>      <th>P>|t|</th>  <th>[0.025</th>    <th>0.975]</th>  \n",
       "</tr>\n",
       "<tr>\n",
       "  <th>const</th> <td>-2544.1153</td> <td>   70.306</td> <td>  -36.187</td> <td> 0.000</td> <td>-2682.121</td> <td>-2406.109</td>\n",
       "</tr>\n",
       "<tr>\n",
       "  <th>x1</th>    <td>  515.1843</td> <td>   26.375</td> <td>   19.533</td> <td> 0.000</td> <td>  463.412</td> <td>  566.956</td>\n",
       "</tr>\n",
       "<tr>\n",
       "  <th>x2</th>    <td>   42.8191</td> <td>    0.686</td> <td>   62.423</td> <td> 0.000</td> <td>   41.473</td> <td>   44.166</td>\n",
       "</tr>\n",
       "<tr>\n",
       "  <th>x3</th>    <td>   14.1144</td> <td>    1.283</td> <td>   11.004</td> <td> 0.000</td> <td>   11.597</td> <td>   16.632</td>\n",
       "</tr>\n",
       "</table>\n",
       "<table class=\"simpletable\">\n",
       "<tr>\n",
       "  <th>Omnibus:</th>       <td>314.023</td> <th>  Durbin-Watson:     </th> <td>   1.989</td> \n",
       "</tr>\n",
       "<tr>\n",
       "  <th>Prob(Omnibus):</th> <td> 0.000</td>  <th>  Jarque-Bera (JB):  </th> <td>1209.965</td> \n",
       "</tr>\n",
       "<tr>\n",
       "  <th>Skew:</th>          <td> 1.852</td>  <th>  Prob(JB):          </th> <td>1.82e-263</td>\n",
       "</tr>\n",
       "<tr>\n",
       "  <th>Kurtosis:</th>      <td> 7.751</td>  <th>  Cond. No.          </th> <td>    467.</td> \n",
       "</tr>\n",
       "</table>"
      ],
      "text/plain": [
       "<class 'statsmodels.iolib.summary.Summary'>\n",
       "\"\"\"\n",
       "                            OLS Regression Results                            \n",
       "==============================================================================\n",
       "Dep. Variable:                      y   R-squared:                       0.843\n",
       "Model:                            OLS   Adj. R-squared:                  0.842\n",
       "Method:                 Least Squares   F-statistic:                     1424.\n",
       "Date:                Sat, 12 Aug 2017   Prob (F-statistic):          2.10e-319\n",
       "Time:                        22:49:49   Log-Likelihood:                -5869.3\n",
       "No. Observations:                 800   AIC:                         1.175e+04\n",
       "Df Residuals:                     796   BIC:                         1.177e+04\n",
       "Df Model:                           3                                         \n",
       "Covariance Type:            nonrobust                                         \n",
       "==============================================================================\n",
       "                 coef    std err          t      P>|t|      [0.025      0.975]\n",
       "------------------------------------------------------------------------------\n",
       "const      -2544.1153     70.306    -36.187      0.000   -2682.121   -2406.109\n",
       "x1           515.1843     26.375     19.533      0.000     463.412     566.956\n",
       "x2            42.8191      0.686     62.423      0.000      41.473      44.166\n",
       "x3            14.1144      1.283     11.004      0.000      11.597      16.632\n",
       "==============================================================================\n",
       "Omnibus:                      314.023   Durbin-Watson:                   1.989\n",
       "Prob(Omnibus):                  0.000   Jarque-Bera (JB):             1209.965\n",
       "Skew:                           1.852   Prob(JB):                    1.82e-263\n",
       "Kurtosis:                       7.751   Cond. No.                         467.\n",
       "==============================================================================\n",
       "\n",
       "Warnings:\n",
       "[1] Standard Errors assume that the covariance matrix of the errors is correctly specified.\n",
       "\"\"\""
      ]
     },
     "execution_count": 24,
     "metadata": {},
     "output_type": "execute_result"
    }
   ],
   "source": [
    "X_train = np.append(arr=np.ones((640,1)).astype(int), values = X_train, axis=1)\n",
    "from sklearn.preprocessing import PolynomialFeatures\n",
    "poly_reg_OLS = PolynomialFeatures(degree=2)\n",
    "X_poly_OLS = poly_reg_OLS.fit_transform(X_train)\n",
    "\n",
    "\n",
    "regressor_OLS_poly = sm.OLS(endog = y_train, exog = X_poly_OLS).fit()\n",
    "regressor_OLS.summary()"
   ]
  },
  {
   "cell_type": "markdown",
   "metadata": {},
   "source": [
    "<span>I belive, this would be the best model to fit the data and predict landing distances</span>"
   ]
  }
 ],
 "metadata": {
  "kernelspec": {
   "display_name": "Python 3",
   "language": "python",
   "name": "python3"
  },
  "language_info": {
   "codemirror_mode": {
    "name": "ipython",
    "version": 3
   },
   "file_extension": ".py",
   "mimetype": "text/x-python",
   "name": "python",
   "nbconvert_exporter": "python",
   "pygments_lexer": "ipython3",
   "version": "3.5.2"
  }
 },
 "nbformat": 4,
 "nbformat_minor": 2
}
